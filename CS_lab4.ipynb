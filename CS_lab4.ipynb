{
  "nbformat": 4,
  "nbformat_minor": 0,
  "metadata": {
    "colab": {
      "name": "CS_lab4.ipynb",
      "provenance": [],
      "collapsed_sections": [
        "BclcWzD1pfOE",
        "ABxneGZ0pm6j",
        "qm04IJioefGr",
        "2NLqhHT_ejSf",
        "lppjn6P_em00",
        "PIxxxXCaWv4j",
        "S0X75RRG2A5m",
        "E7TqWQPf2P4Q",
        "a1Pcib4r2D3F",
        "Z-O3HkSb2T3Q",
        "MA0JIPZK2HOC",
        "OEKrW2qy2X3o"
      ],
      "toc_visible": true
    },
    "kernelspec": {
      "name": "python3",
      "display_name": "Python 3"
    }
  },
  "cells": [
    {
      "cell_type": "code",
      "metadata": {
        "id": "ki2nZ8sqmzkD"
      },
      "source": [
        "import matplotlib.pyplot as plt\r\n",
        "from scipy.stats import t\r\n",
        "import seaborn as sns\r\n",
        "import pandas as pd \r\n",
        "import numpy as np\r\n",
        "import random\r\n",
        "import time"
      ],
      "execution_count": null,
      "outputs": []
    },
    {
      "cell_type": "markdown",
      "metadata": {
        "id": "BclcWzD1pfOE"
      },
      "source": [
        "#Numerical SIR model"
      ]
    },
    {
      "cell_type": "code",
      "metadata": {
        "id": "z0BmCv72pmN9",
        "colab": {
          "base_uri": "https://localhost:8080/"
        },
        "outputId": "cf619ff4-f5fc-43bf-cfc1-630627350a3d"
      },
      "source": [
        "gamma = 1/14\r\n",
        "beta = 0.2\r\n",
        "N = 10000\r\n",
        "I_0 = 1\r\n",
        "S_0 = N-1\r\n",
        "R_0 = 0\r\n",
        "\r\n",
        "R0 = beta/gamma\r\n",
        "print(f\"\\u03B3 = {gamma}\")\r\n",
        "print(f\"\\u03B2 = {beta}\")\r\n",
        "print(f\"R0 = {R0}\")\r\n",
        "print(f'N = {N}')"
      ],
      "execution_count": null,
      "outputs": [
        {
          "output_type": "stream",
          "text": [
            "γ = 0.07142857142857142\n",
            "β = 0.2\n",
            "R0 = 2.8000000000000003\n",
            "N = 10000\n"
          ],
          "name": "stdout"
        }
      ]
    },
    {
      "cell_type": "code",
      "metadata": {
        "id": "CSghiOcIGhF9"
      },
      "source": [
        "def S_func(beta, N, S_p, I_p):\r\n",
        "  return S_p - ((beta/N)*S_p*I_p)\r\n",
        "\r\n",
        "def I_func(beta, N, gamma, S_p, I_p):\r\n",
        "  return I_p + ((beta/N)*S_p*I_p) - (gamma*I_p)\r\n",
        "\r\n",
        "def R_func(gamma, I_p, R_p):\r\n",
        "  return R_p + (gamma*I_p)"
      ],
      "execution_count": null,
      "outputs": []
    },
    {
      "cell_type": "code",
      "metadata": {
        "id": "sqA-KLCfH6QJ"
      },
      "source": [
        "#Value at time t-1 \r\n",
        "S_p = S_0 \r\n",
        "I_p = I_0\r\n",
        "R_p = R_0\r\n",
        "#all the value\r\n",
        "S_t = []\r\n",
        "I_t = []\r\n",
        "R_t = []\r\n",
        "for i in range(365):\r\n",
        "  #new value\r\n",
        "  S_n = S_func(beta, N, S_p, I_p)\r\n",
        "  I_n = I_func(beta, N, gamma, S_p, I_p)\r\n",
        "  R_n = R_func(gamma, I_p, R_p)\r\n",
        "  #update the previous value\r\n",
        "  I_p = I_n \r\n",
        "  S_p = S_n \r\n",
        "  R_p = R_n\r\n",
        "  S_t.append(S_n)\r\n",
        "  I_t.append(I_n)\r\n",
        "  R_t.append(R_n)"
      ],
      "execution_count": null,
      "outputs": []
    },
    {
      "cell_type": "code",
      "metadata": {
        "colab": {
          "base_uri": "https://localhost:8080/"
        },
        "id": "2EHMATO8YYZq",
        "outputId": "fa6f5d92-c5b5-44d8-97ab-b43ea72f5e2c"
      },
      "source": [
        "I_max = np.max(I_t)\r\n",
        "I_max_day = np.argmax(I_t)+1\r\n",
        "print(f\"The max number of infected people is: {I_max}\")\r\n",
        "print(f\"It is reached after {I_max_day} days\")"
      ],
      "execution_count": null,
      "outputs": [
        {
          "output_type": "stream",
          "text": [
            "The max number of infected people is: 2823.4299756346727\n",
            "It is reached after 80 days\n"
          ],
          "name": "stdout"
        }
      ]
    },
    {
      "cell_type": "code",
      "metadata": {
        "colab": {
          "base_uri": "https://localhost:8080/"
        },
        "id": "SbiYSYJ_tkGj",
        "outputId": "36adb3cb-e448-4c0b-b53c-ef8ab1a73d0a"
      },
      "source": [
        "print(f'The susceptible people remained in the population are: {np.min(S_t)}')\r\n",
        "print(f'The total number of recovered People: {np.max(R_t)}')"
      ],
      "execution_count": null,
      "outputs": [
        {
          "output_type": "stream",
          "text": [
            "The susceptible people remained in the population are: 704.8873841706693\n",
            "The total number of recovered People: 9295.112295332334\n"
          ],
          "name": "stdout"
        }
      ]
    },
    {
      "cell_type": "code",
      "metadata": {
        "id": "hIFqGES8dVWR",
        "colab": {
          "base_uri": "https://localhost:8080/"
        },
        "outputId": "138002f1-ef62-441a-fde4-523976590a71"
      },
      "source": [
        "p = 1-(1/R0)\r\n",
        "print(f\"The portion of the population needed to establish the herb immunity is {p*100}%\")\r\n",
        "N_imm = p*N\r\n",
        "print(f'The number of people to reach the herd immunity is: {N_imm}')"
      ],
      "execution_count": null,
      "outputs": [
        {
          "output_type": "stream",
          "text": [
            "The portion of the population needed to establish the herb immunity is 64.28571428571429%\n",
            "The number of people to reach the herd immunity is: 6428.571428571429\n"
          ],
          "name": "stdout"
        }
      ]
    },
    {
      "cell_type": "code",
      "metadata": {
        "colab": {
          "base_uri": "https://localhost:8080/"
        },
        "id": "gHnMCJ_jOX0w",
        "outputId": "7e97ace2-70c9-4040-fb1c-85a13179e1c9"
      },
      "source": [
        "def find_herd_immunity(R_t, N_imm):\r\n",
        "  d_end = 0\r\n",
        "  for i in range(len(R_t)):\r\n",
        "    if R_t[i]> N_imm:\r\n",
        "      d_end = i+1\r\n",
        "      break\r\n",
        "\r\n",
        "  #if is not reached -> the day of the last recover\r\n",
        "  if d_end == 0: \r\n",
        "    d_end = np.argmax(R_t)+1\r\n",
        "\r\n",
        "  return d_end\r\n",
        "\r\n",
        "d_end = find_herd_immunity(R_t, N_imm)\r\n",
        "print(f'The epidemic end after {d_end} days')"
      ],
      "execution_count": null,
      "outputs": [
        {
          "output_type": "stream",
          "text": [
            "The epidemic end after 96 days\n"
          ],
          "name": "stdout"
        }
      ]
    },
    {
      "cell_type": "code",
      "metadata": {
        "colab": {
          "base_uri": "https://localhost:8080/"
        },
        "id": "z3Et60WaVMs5",
        "outputId": "64223be1-27f3-4e58-91f4-bb3802d01ee3"
      },
      "source": [
        "pal = sns.color_palette(\"deep\")\r\n",
        "pal.as_hex()\r\n",
        "sns.set_style(\"darkgrid\", {\"axes.facecolor\": \"0.8\"})\r\n",
        "fig, ax = plt.subplots(figsize=(10,5))\r\n",
        "\r\n",
        "ax.plot(range(365), S_t, label='Susceptible', color= pal[0]) \r\n",
        "ax.plot(range(365), R_t, label='Removed', color=pal[1]) \r\n",
        "ax.plot(range(365), I_t, label='Infected', color = pal[3]) \r\n",
        "ax.plot([d_end, d_end], [0, N], label = \"Herd immunity reached\", color = pal[2])\r\n",
        "\r\n",
        "ax.set_ylim(ymin=0)\r\n",
        "ax.set_xlabel(\"Time [day]\", fontsize=13)\r\n",
        "ax.set_ylabel(\"N° of people\", fontsize=13) \r\n",
        "ax.legend()\r\n",
        "plt.title(f\"Evolution of the deaseas with: \\u03B2={round(beta,2)}, \\u03B3={round(gamma,3)}\", fontsize=15)\r\n",
        "plt.show()"
      ],
      "execution_count": null,
      "outputs": [
        {
          "output_type": "display_data",
          "data": {
            "text/plain": [
              "<Figure size 720x360 with 1 Axes>"
            ],
            "image/png": "[encoded data removed]"
          },
          "metadata": {
            "tags": []
          }
        }
      ]
    },
    {
      "cell_type": "markdown",
      "metadata": {
        "id": "ABxneGZ0pm6j"
      },
      "source": [
        "#Simulative SIR model"
      ]
    },
    {
      "cell_type": "code",
      "metadata": {
        "id": "oWftvduQd2ZM"
      },
      "source": [
        "def conf_int(vect, cl, N_runs):\r\n",
        "  mean = np.mean(vect)\r\n",
        "  var = np.var(vect, ddof=1)\r\n",
        "  if var == 0:\r\n",
        "    ci = (mean, mean)\r\n",
        "  else:\r\n",
        "    ci = t.interval(cl, N_runs-1, mean, np.sqrt(var/N_runs))\r\n",
        "\r\n",
        "  return ci, mean"
      ],
      "execution_count": null,
      "outputs": []
    },
    {
      "cell_type": "code",
      "metadata": {
        "id": "Vlwye1SasrDP"
      },
      "source": [
        "def compute_Rt(Environment):\r\n",
        "  people = Environment.get_people()\r\n",
        "  Rt = []\r\n",
        "\r\n",
        "  for day in range(365):\r\n",
        "    tot_i = 0\r\n",
        "    tot_p = 0 \r\n",
        "    for p in people:\r\n",
        "      if (day >= p.get_day_start()) and (day <= p.get_day_end()):\r\n",
        "        tot_i += p.get_N_infected()\r\n",
        "        tot_p += 1\r\n",
        "        p.decrese_N_infected(day) #remove the past history\r\n",
        "        \r\n",
        "    if tot_p == 0: #no one is infected\r\n",
        "      Rt.append(0) # Rt is 0\r\n",
        "    else: \r\n",
        "      Rt.append(tot_i/tot_p)\r\n",
        "\r\n",
        "  return Rt"
      ],
      "execution_count": null,
      "outputs": []
    },
    {
      "cell_type": "markdown",
      "metadata": {
        "id": "qm04IJioefGr"
      },
      "source": [
        "## Data structure"
      ]
    },
    {
      "cell_type": "code",
      "metadata": {
        "id": "D0RI98prfomD"
      },
      "source": [
        "#state == 0 -> susceptible\r\n",
        "#state == 1 -> Infected\r\n",
        "#state == 2 -> removed\r\n",
        "\r\n",
        "class Person:\r\n",
        "  def __init__(self, id, gamma):\r\n",
        "    self.id = id\r\n",
        "    self.state = 0  #the actual state of the person\r\n",
        "    self.day_start = -1 #it's the day on which it becomes infected\r\n",
        "    self.day_end = -1  #it's the day of the recover\r\n",
        "    self.time = 0   #days passed since the infection\r\n",
        "    self.N_infected = 0   #number of people infected by this person\r\n",
        "    self.gamma = gamma    #it's the recovery rate for this person\r\n",
        "    self.N_contact = 0    #number of contact with other people\r\n",
        "    self.day_infection = []  #day at which infect another people\r\n",
        "\r\n",
        "  def get_ID(self):\r\n",
        "    return self.id\r\n",
        "\r\n",
        "  def get_state(self,day):\r\n",
        "    if (self.state == 1) and (self.day_start == day): #is the day on which he become infected\r\n",
        "      return -1\r\n",
        "    else:\r\n",
        "      return self.state\r\n",
        "  \r\n",
        "  def get_day_start(self):\r\n",
        "    return self.day_start\r\n",
        "\r\n",
        "  def get_day_end(self):\r\n",
        "    return self.day_end\r\n",
        "\r\n",
        "  def get_time(self):\r\n",
        "    return self.time\r\n",
        "  \r\n",
        "  def increase_N_infected(self, day):\r\n",
        "    self.N_infected += 1  #infected a new person\r\n",
        "    self.day_infection.append(day)   #day of the infection\r\n",
        "    return\r\n",
        "\r\n",
        "  def get_N_infected(self):\r\n",
        "    return self.N_infected\r\n",
        "\r\n",
        "  def increase_N_contact(self):\r\n",
        "    self.N_contact += 1\r\n",
        "    return\r\n",
        "\r\n",
        "  def decrese_N_infected(self, day):\r\n",
        "    for d in self.day_infection: \r\n",
        "      if d == day: #remouve the past history\r\n",
        "        self.N_infected -= 1 \r\n",
        "    return\r\n",
        "\r\n",
        "  def get_N_contact(self):\r\n",
        "    return self.N_contact\r\n",
        "\r\n",
        "  def become_infected(self, day):\r\n",
        "    self.state = 1\r\n",
        "    self.day_start = day\r\n",
        "\r\n",
        "  def recover(self, day):\r\n",
        "    if self.state != 1:  #is not infected\r\n",
        "      return False \r\n",
        "    \r\n",
        "    if self.day_start == day:  #new infected, can not recover on the same day of the infection\r\n",
        "      return False\r\n",
        "\r\n",
        "    P_rec = random.uniform(0,1)\r\n",
        "    if P_rec <= self.gamma: \r\n",
        "      self.state = 2\r\n",
        "      self.day_end = day\r\n",
        "      self.time = self.day_end - self.day_start\r\n",
        "      return True\r\n",
        "    else:\r\n",
        "      return False"
      ],
      "execution_count": null,
      "outputs": []
    },
    {
      "cell_type": "code",
      "metadata": {
        "id": "LQKr9iR-i028"
      },
      "source": [
        "class Environment():\r\n",
        "  def __init__(self, N=0, beta=0, gamma=0):\r\n",
        "    if (N <= 1) or (beta <= 0) or (gamma <= 0):\r\n",
        "      print('Wrong parameters!')\r\n",
        "      return \r\n",
        "\r\n",
        "    self.N = N   #number of people\r\n",
        "    self.people = []  #vector of person\r\n",
        "    for i in range(self.N):\r\n",
        "      self.people.append(Person(i, gamma)) #all with the same recovery rate\r\n",
        "    self.beta = beta \r\n",
        "\r\n",
        "    i = random.randint(0, self.N-1)      #first infected\r\n",
        "    self.day = 0\r\n",
        "    self.people[i].become_infected(self.day)\r\n",
        "    self.R = 0\r\n",
        "    self.I = 1\r\n",
        "    self.S = self.N-1\r\n",
        "\r\n",
        "  def infect(self):\r\n",
        "    for i in range(self.N):   #the person i ...\r\n",
        "      N_meet = np.random.poisson(lam=self.beta)  #how many people meet\r\n",
        "      if N_meet > 0:\r\n",
        "        id_meet = random.sample(range(N), N_meet) #who are those people\r\n",
        "        while i in id_meet: #can not meet himself\r\n",
        "          id_meet = random.sample(range(N), N_meet)\r\n",
        "\r\n",
        "        for j in id_meet:\r\n",
        "          state_i = self.people[i].get_state(self.day)\r\n",
        "          state_j = self.people[j].get_state(self.day)\r\n",
        "          self.people[i].increase_N_contact()   #for debug \r\n",
        "          self.people[j].increase_N_contact()   #for debug\r\n",
        "          if state_i == 1 and state_j == 0:\r\n",
        "            self.people[j].become_infected(self.day)   #become infected\r\n",
        "            self.S -= 1             #update susceptible\r\n",
        "            self.I += 1             #update infected\r\n",
        "            self.people[i].increase_N_infected(self.day)\r\n",
        "          elif state_j == 1 and state_i == 0:\r\n",
        "            self.people[i].become_infected(self.day)   #become infected\r\n",
        "            self.S -= 1             #update susceptible\r\n",
        "            self.I += 1             #update infected\r\n",
        "            self.people[j].increase_N_infected(self.day)\r\n",
        "    return\r\n",
        "\r\n",
        "  def recover(self):\r\n",
        "    for i in range(self.N):\r\n",
        "      if self.people[i].recover(self.day):  #can recover\r\n",
        "        self.R += 1\r\n",
        "        self.I -= 1\r\n",
        "    return\r\n",
        "\r\n",
        "  def next_day(self):\r\n",
        "    self.day += 1\r\n",
        "    return\r\n",
        "\r\n",
        "  def get_people(self):\r\n",
        "    return self.people\r\n",
        "\r\n",
        "  def get_SIR(self):\r\n",
        "    return self.S, self.I, self.R"
      ],
      "execution_count": null,
      "outputs": []
    },
    {
      "cell_type": "markdown",
      "metadata": {
        "id": "2NLqhHT_ejSf"
      },
      "source": [
        "##Simulation"
      ]
    },
    {
      "cell_type": "code",
      "metadata": {
        "id": "O56a1RK9kDEe"
      },
      "source": [
        "def Simulate(days, N,N_imm, beta, gamma):\r\n",
        "  environment = Environment(N, beta, gamma)\r\n",
        "  I_t = []\r\n",
        "  R_t = []\r\n",
        "  for _ in range(days):\r\n",
        "    environment.infect()\r\n",
        "    environment.recover()\r\n",
        "    environment.next_day()\r\n",
        "    _ , I, R = environment.get_SIR()\r\n",
        "    I_t.append(I)\r\n",
        "    R_t.append(R)\r\n",
        "    \r\n",
        "  i_max = np.max(I_t)\r\n",
        "  day_max = np.argmax(I_t)+1 \r\n",
        "  day_end = find_herd_immunity(R_t, N_imm)\r\n",
        "  Rt = compute_Rt(environment)\r\n",
        "  return i_max, day_max, day_end, Rt"
      ],
      "execution_count": null,
      "outputs": []
    },
    {
      "cell_type": "code",
      "metadata": {
        "id": "D22fpsJKn2BD",
        "colab": {
          "base_uri": "https://localhost:8080/"
        },
        "outputId": "a227f856-ecdf-466e-82e8-9b4e7e232c2b"
      },
      "source": [
        "#input parameters\r\n",
        "N_runs = 30\r\n",
        "cl = 0.95\r\n",
        "seed = 0\r\n",
        "\r\n",
        "N = 10000\r\n",
        "N_imm = 6428 \r\n",
        "beta = 0.1\r\n",
        "gamma = 1/14\r\n",
        "days = 365\r\n",
        "\r\n",
        "print(f\"The population size is: {N}\")\r\n",
        "print(f\"Number of immune people needed for the herd immunity: {N_imm}\")\r\n",
        "print(f\"\\u03B2 = {beta}\")\r\n",
        "print(f\"\\u03B3 = {gamma}\")"
      ],
      "execution_count": null,
      "outputs": [
        {
          "output_type": "stream",
          "text": [
            "The population size is: 10000\n",
            "Number of immune people needed for the herd immunity: 6428\n",
            "β = 0.1\n",
            "γ = 0.07142857142857142\n"
          ],
          "name": "stdout"
        }
      ]
    },
    {
      "cell_type": "code",
      "metadata": {
        "id": "NAJ_e5K6n2Fk"
      },
      "source": [
        "#output metrics\r\n",
        "I_max = []\r\n",
        "I_max_day = []\r\n",
        "Days_end = []\r\n",
        "RT = []"
      ],
      "execution_count": null,
      "outputs": []
    },
    {
      "cell_type": "code",
      "metadata": {
        "id": "zXy73jxjhrBi",
        "colab": {
          "base_uri": "https://localhost:8080/"
        },
        "outputId": "b67cc8dc-06e8-43ae-9ba3-19a27b33f6c3"
      },
      "source": [
        "#simulation\r\n",
        "for r in range(N_runs):\r\n",
        "  print(f\"Run: {r}\")\r\n",
        "  np.random.seed(seed)\r\n",
        "  random.seed(seed)\r\n",
        "  i_max, day_max, day_end, Rt = Simulate(days, N, N_imm, beta, gamma)\r\n",
        "  I_max.append(i_max)\r\n",
        "  I_max_day.append(day_max)\r\n",
        "  Days_end.append(day_end)\r\n",
        "  RT.append(Rt)\r\n",
        "  seed += 1"
      ],
      "execution_count": null,
      "outputs": [
        {
          "output_type": "stream",
          "text": [
            "Run: 0\n",
            "Run: 1\n",
            "Run: 2\n",
            "Run: 3\n",
            "Run: 4\n",
            "Run: 5\n",
            "Run: 6\n",
            "Run: 7\n",
            "Run: 8\n",
            "Run: 9\n",
            "Run: 10\n",
            "Run: 11\n",
            "Run: 12\n",
            "Run: 13\n",
            "Run: 14\n",
            "Run: 15\n",
            "Run: 16\n",
            "Run: 17\n",
            "Run: 18\n",
            "Run: 19\n",
            "Run: 20\n",
            "Run: 21\n",
            "Run: 22\n",
            "Run: 23\n",
            "Run: 24\n",
            "Run: 25\n",
            "Run: 26\n",
            "Run: 27\n",
            "Run: 28\n",
            "Run: 29\n"
          ],
          "name": "stdout"
        }
      ]
    },
    {
      "cell_type": "code",
      "metadata": {
        "colab": {
          "base_uri": "https://localhost:8080/"
        },
        "id": "lVVo-4FcZDG8",
        "outputId": "d8df1861-cfe2-4555-a495-0680871cb4ce"
      },
      "source": [
        "ci_max, mean_max = conf_int(I_max, cl, len(I_max))\r\n",
        "ci_max_day, mean_max_day = conf_int(I_max_day, cl, len(I_max_day)) \r\n",
        "ci_end, mean_end = conf_int(Days_end, cl, len(Days_end)) \r\n",
        "\r\n",
        "print(\"With degenerative runs:\")\r\n",
        "print(f'The maximum number of infected people is {mean_max}')\r\n",
        "print(f'With the confidence interval: {ci_max}')\r\n",
        "print(f'The maximum number of infected people is reached after {mean_max_day} day')\r\n",
        "print(f'With the confidence interval: {ci_max_day}')\r\n",
        "print(f'The epidemics end after {mean_end} days')\r\n",
        "print(f'With the confidence interval: {ci_end}')"
      ],
      "execution_count": null,
      "outputs": [
        {
          "output_type": "stream",
          "text": [
            "With degenerative runs:\n",
            "The maximum number of infected people is 2208.5666666666666\n",
            "With the confidence interval: (1788.5342649820625, 2628.5990683512705)\n",
            "The maximum number of infected people is reached after 66.56666666666666 day\n",
            "With the confidence interval: (53.77777826159724, 79.35555507173608)\n",
            "The epidemics end after 80.3 days\n",
            "With the confidence interval: (65.6120245231541, 94.98797547684589)\n"
          ],
          "name": "stdout"
        }
      ]
    },
    {
      "cell_type": "code",
      "metadata": {
        "colab": {
          "base_uri": "https://localhost:8080/"
        },
        "id": "8BpRRWDDP0fg",
        "outputId": "9905e959-258f-4801-9976-2d737969ca86"
      },
      "source": [
        "#remove the degenerative runs\r\n",
        "deg_runs = 0\r\n",
        "for i in reversed(range(N_runs)): \r\n",
        "  if I_max[i] < 50:\r\n",
        "    I_max.pop(i)\r\n",
        "    I_max_day.pop(i)\r\n",
        "    Days_end.pop(i)\r\n",
        "    RT.pop(i)\r\n",
        "    deg_runs += 1\r\n",
        "\r\n",
        "ci_max, mean_max = conf_int(I_max, cl, len(I_max))\r\n",
        "ci_max_day, mean_max_day = conf_int(I_max_day, cl, len(I_max_day)) \r\n",
        "ci_end, mean_end = conf_int(Days_end, cl, len(Days_end)) \r\n",
        "print(f\"Removed {deg_runs} degenerative runs\")\r\n",
        "print(\"Without degenerative runs:\")\r\n",
        "print(f'The maximum number of infected people is {mean_max}')\r\n",
        "print(f'With the confidence interval: {ci_max}')\r\n",
        "print(f'The maximum number of infected people is reached after {mean_max_day} day')\r\n",
        "print(f'With the confidence interval: {ci_max_day}')\r\n",
        "print(f'The epidemics end after {mean_end} days')\r\n",
        "print(f'With the confidence interval: {ci_end}')"
      ],
      "execution_count": null,
      "outputs": [
        {
          "output_type": "stream",
          "text": [
            "Removed 6 degenerative runs\n",
            "Without degenerative runs:\n",
            "The maximum number of infected people is 2760.4166666666665\n",
            "With the confidence interval: (2726.3313372987577, 2794.5019960345753)\n",
            "The maximum number of infected people is reached after 82.83333333333333 day\n",
            "With the confidence interval: (78.65005343432075, 87.0166132323459)\n",
            "The epidemics end after 99.125 days\n",
            "With the confidence interval: (94.99835568717684, 103.25164431282316)\n"
          ],
          "name": "stdout"
        }
      ]
    },
    {
      "cell_type": "code",
      "metadata": {
        "id": "leZT0JykrXoQ",
        "colab": {
          "base_uri": "https://localhost:8080/"
        },
        "outputId": "4757ddcd-34b3-4160-e72c-4db896f8b045"
      },
      "source": [
        "#one single istance of the simulation\r\n",
        "np.random.seed(0)\r\n",
        "random.seed(0)\r\n",
        "environment = Environment(N, 0.1, 1/14)\r\n",
        "S_t = []\r\n",
        "I_t = []\r\n",
        "R_t = []\r\n",
        "for j in range(365):\r\n",
        "  environment.infect()\r\n",
        "  environment.recover()\r\n",
        "  environment.next_day()\r\n",
        "  S_n, I_n, R_n = environment.get_SIR()\r\n",
        "  S_t.append(S_n)\r\n",
        "  I_t.append(I_n)\r\n",
        "  R_t.append(R_n)\r\n",
        "\r\n",
        "print(f\"Max infected: {np.max(I_t)}\")\r\n",
        "print(f\"Day max: {np.argmax(I_t)+1}\")\r\n",
        "day_end = find_herd_immunity(R_t, N_imm)\r\n",
        "print(f\"Day end = {day_end}\")"
      ],
      "execution_count": null,
      "outputs": [
        {
          "output_type": "stream",
          "text": [
            "Max infected: 2838\n",
            "Day max: 79\n",
            "Day end = 96\n"
          ],
          "name": "stdout"
        }
      ]
    },
    {
      "cell_type": "markdown",
      "metadata": {
        "id": "lppjn6P_em00"
      },
      "source": [
        "##Plotting"
      ]
    },
    {
      "cell_type": "code",
      "metadata": {
        "colab": {
          "base_uri": "https://localhost:8080/",
          "height": 352
        },
        "id": "YjvpPWZHPbqE",
        "outputId": "30293538-d93a-4b4d-8513-85c544a0ff64"
      },
      "source": [
        "#plotting S(t), I(t) and R(t)\r\n",
        "pal = sns.color_palette(\"deep\")\r\n",
        "pal.as_hex()\r\n",
        "sns.set_style(\"darkgrid\", {\"axes.facecolor\": \"0.8\"})\r\n",
        "fig, ax = plt.subplots(figsize=(10,5))\r\n",
        "\r\n",
        "ax.plot(range(365), S_t, label='Susceptible', color= pal[0]) \r\n",
        "ax.plot(range(365), R_t, label='Removed', color=pal[1]) \r\n",
        "ax.plot(range(365), I_t, label='Infected', color = pal[3]) \r\n",
        "ax.plot([day_end, day_end], [0, N], label = \"Herd immunity reached\", color = pal[2])\r\n",
        "\r\n",
        "ax.set_ylim(ymin=0)\r\n",
        "ax.set_xlabel(\"Time [day]\", fontsize=13)\r\n",
        "ax.set_ylabel(\"N° of people\", fontsize=13) \r\n",
        "ax.legend()\r\n",
        "plt.title(f\"Evolution of the deaseas with: \\u03B2={round(beta,2)}, \\u03B3={round(gamma,3)}\", fontsize=15)\r\n",
        "plt.show()"
      ],
      "execution_count": null,
      "outputs": [
        {
          "output_type": "display_data",
          "data": {
            "text/plain": [
              "<Figure size 720x360 with 1 Axes>"
            ],
            "image/png": "[encoded data removed]"
          },
          "metadata": {
            "tags": []
          }
        }
      ]
    },
    {
      "cell_type": "code",
      "metadata": {
        "colab": {
          "base_uri": "https://localhost:8080/",
          "height": 352
        },
        "id": "7wAhSW6kYmad",
        "outputId": "30b2af53-0db9-4039-d418-8552c990286c"
      },
      "source": [
        "#plotting Rt + confidence interval\r\n",
        "sns.set_palette(\"colorblind\")  \r\n",
        "sns.set_style(\"darkgrid\", {\"axes.facecolor\": \"0.8\"})\r\n",
        "fig, ax = plt.subplots(figsize=(10,5))\r\n",
        "\r\n",
        "RT = np.array(RT)\r\n",
        "Mean_rt = []\r\n",
        "CI_rt = []\r\n",
        "for i in range(365):\r\n",
        "  ci_rt, m_rt = conf_int(RT[:,i], cl, len(RT))\r\n",
        "  Mean_rt.append(m_rt)\r\n",
        "  CI_rt.append(ci_rt)\r\n",
        "\r\n",
        "LW_ci = []\r\n",
        "UP_ci = []\r\n",
        "for i in range(len(CI_rt)):\r\n",
        "  LW_ci.append(CI_rt[i][0])\r\n",
        "  UP_ci.append(CI_rt[i][1])\r\n",
        "\r\n",
        "ax.plot(range(365), Mean_rt, label='Rt') \r\n",
        "ax.fill_between(range(365), LW_ci, UP_ci, color='b', alpha=.1, label=\"95% confidence\")\r\n",
        "ax.set_ylim(ymin=0)\r\n",
        "ax.set_xlabel(\"Time [day]\", fontsize=13)\r\n",
        "ax.set_ylabel(\"Rt\", fontsize=13) \r\n",
        "ax.legend()\r\n",
        "plt.title(\"Evolution of Rt\", fontsize=15)\r\n",
        "plt.show()"
      ],
      "execution_count": null,
      "outputs": [
        {
          "output_type": "display_data",
          "data": {
            "text/plain": [
              "<Figure size 720x360 with 1 Axes>"
            ],
            "image/png": "[encoded data removed]"
          },
          "metadata": {
            "tags": []
          }
        }
      ]
    },
    {
      "cell_type": "markdown",
      "metadata": {
        "id": "39-cLtL1prwZ"
      },
      "source": [
        "#Extension of SIR model"
      ]
    },
    {
      "cell_type": "markdown",
      "metadata": {
        "id": "7YrkO6hfWp0Q"
      },
      "source": [
        "##Data structure"
      ]
    },
    {
      "cell_type": "code",
      "metadata": {
        "id": "HU3k_sJTc62w"
      },
      "source": [
        "#state == 0 -> susceptible\r\n",
        "#state == 1 -> Infected\r\n",
        "#state == 2 -> removed\r\n",
        "\r\n",
        "class Person:\r\n",
        "  def __init__(self, id, gamma):\r\n",
        "    self.id = id\r\n",
        "    self.state = 0  #the actual state of the person\r\n",
        "    self.day_start = -1 #it's the day on which it becomes infected\r\n",
        "    self.day_end = -1  #it's the day of the recover\r\n",
        "    self.time = 0   #days passed since the infection\r\n",
        "    self.N_infected = 0   #number of people infected by this person\r\n",
        "    self.gamma = gamma    #it's the recovery rate for this person\r\n",
        "    self.N_contact = 0    #number of contact with other people\r\n",
        "    self.day_infection = []  #day at which infect another people\r\n",
        "\r\n",
        "  def get_ID(self):\r\n",
        "    return self.id\r\n",
        "\r\n",
        "  def get_state(self,day):\r\n",
        "    if (self.state == 1) and (self.day_start == day): #is the day on which he become infected\r\n",
        "      return -1\r\n",
        "    else:\r\n",
        "      return self.state\r\n",
        "  \r\n",
        "  def get_day_start(self):\r\n",
        "    return self.day_start\r\n",
        "\r\n",
        "  def get_day_end(self):\r\n",
        "    return self.day_end\r\n",
        "\r\n",
        "  def get_time(self):\r\n",
        "    return self.time\r\n",
        "  \r\n",
        "  def increase_N_infected(self, day):\r\n",
        "    self.N_infected += 1  #infected a new person\r\n",
        "    self.day_infection.append(day)   #day of the infection\r\n",
        "    return\r\n",
        "\r\n",
        "  def get_N_infected(self):\r\n",
        "    return self.N_infected\r\n",
        "\r\n",
        "  def increase_N_contact(self):\r\n",
        "    self.N_contact += 1\r\n",
        "    return\r\n",
        "\r\n",
        "  def decrese_N_infected(self, day):\r\n",
        "    for d in self.day_infection:\r\n",
        "      if d == day:\r\n",
        "        self.N_infected -= 1 \r\n",
        "    return\r\n",
        "\r\n",
        "  def get_N_contact(self):\r\n",
        "    return self.N_contact\r\n",
        "\r\n",
        "  def become_infected(self, day):\r\n",
        "    self.state = 1\r\n",
        "    self.day_start = day\r\n",
        "\r\n",
        "  def recover(self, day):\r\n",
        "    if self.state != 1:  #is not infected\r\n",
        "      return False \r\n",
        "     #new infected, can not recover on the same day of the infection\r\n",
        "    if self.day_start == day: \r\n",
        "      return False\r\n",
        "\r\n",
        "    P_rec = random.uniform(0,1)\r\n",
        "    if P_rec <= self.gamma:\r\n",
        "      self.state = 2\r\n",
        "      self.day_end = day\r\n",
        "      self.time = self.day_end - self.day_start\r\n",
        "      return True\r\n",
        "    else:\r\n",
        "      return False"
      ],
      "execution_count": null,
      "outputs": []
    },
    {
      "cell_type": "code",
      "metadata": {
        "id": "1X0zssACWaFu"
      },
      "source": [
        "class Location():\r\n",
        "  def __init__(self, id = -1, beta=0):\r\n",
        "    if id == -1:\r\n",
        "      print(\"miss the id of the location\")\r\n",
        "    if beta < 0:\r\n",
        "      print(f\"Wrong parameter in the location {id}\")\r\n",
        "    self.people_index = []   #index of the people in this location\r\n",
        "    self.id_location = id  \r\n",
        "    self.beta = beta\r\n",
        "\r\n",
        "  def add_person(self, index): #add a people into this location\r\n",
        "    self.people_index.append(index)\r\n",
        "    return\r\n",
        "\r\n",
        "  def empty(self):  #remove all the people\r\n",
        "    self.people_index = []\r\n",
        "    return\r\n",
        "\r\n",
        "  def set_beta(self, new_beta):\r\n",
        "    self.beta = new_beta\r\n",
        "    return\r\n",
        "    \r\n",
        "  def meet(self):\r\n",
        "    meeting = []\r\n",
        "    if len(self.people_index) <= 1:\r\n",
        "      return meeting\r\n",
        "\r\n",
        "    for i in self.people_index:\r\n",
        "      N_meet = np.random.poisson(lam=self.beta)  #how many people meet\r\n",
        "      if N_meet > 0:\r\n",
        "        id_meet = random.sample(self.people_index, N_meet) #who are those people\r\n",
        "        while i in id_meet: #can not meet himself\r\n",
        "          id_meet = random.sample(self.people_index, N_meet)\r\n",
        "        for j in id_meet:\r\n",
        "          meeting.append((i,j))\r\n",
        "\r\n",
        "    return meeting"
      ],
      "execution_count": null,
      "outputs": []
    },
    {
      "cell_type": "code",
      "metadata": {
        "id": "E1yQVOzHpxjJ"
      },
      "source": [
        "class Environment():\r\n",
        "  def __init__(self, N=0, beta=[], gamma=[], N_locations=0, P_out=0):\r\n",
        "    if (N <= 0) or (len(beta)<= 0) or (len(gamma)==0) or (N_locations<=0) or (P_out<0):\r\n",
        "      print('Wrong or missing parameters!')\r\n",
        "      return \r\n",
        "    if len(beta) != N_locations:\r\n",
        "      print('Error: wrong length of beta')\r\n",
        "      return\r\n",
        "\r\n",
        "    self.N = N\r\n",
        "    self.people = []\r\n",
        "    for i in range(self.N):\r\n",
        "      P_cat = random.uniform(0,1)  #uniform distribution\r\n",
        "      for g in range(len(gamma)):     \r\n",
        "        if P_cat <= ((g+1)/len(gamma)):\r\n",
        "          self.people.append(Person(i, gamma[g]))\r\n",
        "\r\n",
        "    self.P_out = P_out\r\n",
        "    self.N_loc = N_locations\r\n",
        "    self.locations = []  #init locations\r\n",
        "    for j in range(self.N_loc):\r\n",
        "      self.locations.append(Location(j, beta[j])) #each location has its own beta\r\n",
        "\r\n",
        "    #first case\r\n",
        "    i = random.randint(0, self.N-1)\r\n",
        "    self.day = 0\r\n",
        "    self.people[i].become_infected(self.day) \r\n",
        "    self.R = 0\r\n",
        "    self.I = 1\r\n",
        "    self.S = self.N-1\r\n",
        "\r\n",
        "  def move(self):\r\n",
        "    for loc in self.locations: #remove all the people from the location\r\n",
        "      loc.empty()\r\n",
        "      \r\n",
        "    for i in range(N): #for all the people\r\n",
        "      out = random.uniform(0,1) #are the person go out?\r\n",
        "      if out <= self.P_out:\r\n",
        "        i_loc = random.randint(0, self.N_loc-1) #if yes-> go to the location i_loc\r\n",
        "        self.locations[i_loc].add_person(i)\r\n",
        "    return\r\n",
        "\r\n",
        "  def infect(self):\r\n",
        "    for loc in self.locations:\r\n",
        "      contact = loc.meet()  #all the contact that occurring in that location\r\n",
        "      for i,j in contact:\r\n",
        "        state_i = self.people[i].get_state(self.day)\r\n",
        "        state_j = self.people[j].get_state(self.day)\r\n",
        "        self.people[i].increase_N_contact()   #for debugging\r\n",
        "        self.people[j].increase_N_contact()\r\n",
        "        if state_i == 1 and state_j == 0:\r\n",
        "          self.people[j].become_infected(self.day)   #j become infected\r\n",
        "          self.S -= 1             #update susceptible\r\n",
        "          self.I += 1             #update infected\r\n",
        "          self.people[i].increase_N_infected(self.day)\r\n",
        "        elif state_j == 1 and state_i == 0:\r\n",
        "          self.people[i].become_infected(self.day)   #i become infected\r\n",
        "          self.S -= 1             #update susceptible\r\n",
        "          self.I += 1             #update infected\r\n",
        "          self.people[j].increase_N_infected(self.day)\r\n",
        "  \r\n",
        "  def recover(self):\r\n",
        "    for i in range(self.N):\r\n",
        "      if self.people[i].recover(self.day):  #can recover\r\n",
        "        self.R += 1\r\n",
        "        self.I -= 1\r\n",
        "    return\r\n",
        "\r\n",
        "  def next_day(self):\r\n",
        "    self.day += 1\r\n",
        "    # self.contact = []\r\n",
        "    return\r\n",
        "\r\n",
        "  def set_restriction(self, new_beta=[], new_P_out = 0):\r\n",
        "    if new_P_out != 0 and new_P_out > 0:\r\n",
        "      self.P_out = new_P_out  #coprifuoco\r\n",
        "\r\n",
        "    if len(new_beta) != self.N_loc:\r\n",
        "      # print('Wrong length for new_beta!')\r\n",
        "      return\r\n",
        "\r\n",
        "    for i in range(len(new_beta)):\r\n",
        "      self.locations[i].set_beta(new_beta[i])\r\n",
        "\r\n",
        "    return\r\n",
        "\r\n",
        "  def get_SIR(self):\r\n",
        "    return self.S, self.I, self.R\r\n",
        "\r\n",
        "  def get_people(self):\r\n",
        "    return self.people"
      ],
      "execution_count": null,
      "outputs": []
    },
    {
      "cell_type": "markdown",
      "metadata": {
        "id": "PIxxxXCaWv4j"
      },
      "source": [
        "##Simulation"
      ]
    },
    {
      "cell_type": "code",
      "metadata": {
        "id": "ISfwt0W23X5n"
      },
      "source": [
        "def Simulate(days, N, beta, gamma, N_location, P_out):\r\n",
        "  environment = Environment(N, beta, gamma, N_location, P_out)\r\n",
        "  I_t = []\r\n",
        "  R_t = []\r\n",
        "  N_imm = 6428\r\n",
        "  for _ in range(days):\r\n",
        "    environment.move()\r\n",
        "    environment.infect()\r\n",
        "    environment.recover()\r\n",
        "    environment.next_day()\r\n",
        "    _ , I, R = environment.get_SIR()\r\n",
        "    I_t.append(I)\r\n",
        "    R_t.append(R)\r\n",
        "    \r\n",
        "  i_max = np.max(I_t)\r\n",
        "  day_max = np.argmax(I_t)+1 \r\n",
        "  day_end = find_herd_immunity(R_t, N_imm)\r\n",
        "  Rt = compute_Rt(environment)\r\n",
        "  return i_max, day_max, day_end, Rt"
      ],
      "execution_count": null,
      "outputs": []
    },
    {
      "cell_type": "markdown",
      "metadata": {
        "id": "S0X75RRG2A5m"
      },
      "source": [
        "###Case 0"
      ]
    },
    {
      "cell_type": "code",
      "metadata": {
        "id": "O4dEzEjWpxmI",
        "colab": {
          "base_uri": "https://localhost:8080/"
        },
        "outputId": "b4e33e84-b003-404b-b150-d95670be2f36"
      },
      "source": [
        "#input variable\r\n",
        "N_runs = 30\r\n",
        "cl = 0.95\r\n",
        "seed = 1\r\n",
        "\r\n",
        "days = 365\r\n",
        "N = 10000\r\n",
        "beta = [0.125, 0.125, 0.125, 0.125, 0.125]\r\n",
        "gamma = [1/12, 1/14, 1/16]\r\n",
        "N_location = len(beta) \r\n",
        "P_out = 0.8\r\n",
        "\r\n",
        "print(f\"The population size is: {N}\")\r\n",
        "print(f\"\\u03B2 = {beta}\")\r\n",
        "print(f\"\\u03B3 = {gamma}\")"
      ],
      "execution_count": null,
      "outputs": [
        {
          "output_type": "stream",
          "text": [
            "The population size is: 10000\n",
            "β = [0.125, 0.125, 0.125, 0.125, 0.125]\n",
            "γ = [0.08333333333333333, 0.07142857142857142, 0.0625]\n"
          ],
          "name": "stdout"
        }
      ]
    },
    {
      "cell_type": "code",
      "metadata": {
        "id": "BMTSKCiBpxpQ"
      },
      "source": [
        "#output metrics\r\n",
        "I_max = []\r\n",
        "I_max_day = []\r\n",
        "Days_end = []\r\n",
        "RT = []"
      ],
      "execution_count": null,
      "outputs": []
    },
    {
      "cell_type": "code",
      "metadata": {
        "id": "85Gma6i6HTwh",
        "colab": {
          "base_uri": "https://localhost:8080/"
        },
        "outputId": "0f8267ce-33de-4360-d3cc-69cd4e23168a"
      },
      "source": [
        "#simulation\r\n",
        "for r in range(N_runs):\r\n",
        "  print(f\"Run: {r}\")\r\n",
        "  np.random.seed(seed)\r\n",
        "  random.seed(seed)\r\n",
        "  i_max, day_max, day_end, Rt = Simulate(days, N, beta, gamma, N_location, P_out)\r\n",
        "  I_max.append(i_max)\r\n",
        "  I_max_day.append(day_max)\r\n",
        "  Days_end.append(day_end)\r\n",
        "  RT.append(Rt)\r\n",
        "  seed += 1"
      ],
      "execution_count": null,
      "outputs": [
        {
          "output_type": "stream",
          "text": [
            "Run: 0\n",
            "Run: 1\n",
            "Run: 2\n",
            "Run: 3\n",
            "Run: 4\n",
            "Run: 5\n",
            "Run: 6\n",
            "Run: 7\n",
            "Run: 8\n",
            "Run: 9\n",
            "Run: 10\n",
            "Run: 11\n",
            "Run: 12\n",
            "Run: 13\n",
            "Run: 14\n",
            "Run: 15\n",
            "Run: 16\n",
            "Run: 17\n",
            "Run: 18\n",
            "Run: 19\n",
            "Run: 20\n",
            "Run: 21\n",
            "Run: 22\n",
            "Run: 23\n",
            "Run: 24\n",
            "Run: 25\n",
            "Run: 26\n",
            "Run: 27\n",
            "Run: 28\n",
            "Run: 29\n"
          ],
          "name": "stdout"
        }
      ]
    },
    {
      "cell_type": "code",
      "metadata": {
        "id": "HVS3Ch1VHTzn",
        "colab": {
          "base_uri": "https://localhost:8080/"
        },
        "outputId": "4d080185-da4f-4c42-95fd-d2fd1b80c347"
      },
      "source": [
        "ci_max, mean_max = conf_int(I_max, cl, len(I_max))\r\n",
        "ci_max_day, mean_max_day = conf_int(I_max_day, cl, len(I_max_day)) \r\n",
        "ci_end, mean_end = conf_int(Days_end, cl, len(Days_end)) \r\n",
        "\r\n",
        "print(\"With degenerative runs\")\r\n",
        "print(f'The maximum number of infected people is {mean_max}')\r\n",
        "print(f'With the confidence interval: {ci_max}')\r\n",
        "print(f'The maximum number of infected people is reached after {mean_max_day} day')\r\n",
        "print(f'With the confidence interval: {ci_max_day}')\r\n",
        "print(f'The epidemics end after {mean_end} days')\r\n",
        "print(f'With the confidence interval: {ci_end}')"
      ],
      "execution_count": null,
      "outputs": [
        {
          "output_type": "stream",
          "text": [
            "With degenerative runs\n",
            "The maximum number of infected people is 2501.7\n",
            "With the confidence interval: (2128.4265599518044, 2874.9734400481952)\n",
            "The maximum number of infected people is reached after 70.36666666666666 day\n",
            "With the confidence interval: (59.807657903822175, 80.92567542951114)\n",
            "The epidemics end after 85.3 days\n",
            "With the confidence interval: (73.23442020992913, 97.36557979007087)\n"
          ],
          "name": "stdout"
        }
      ]
    },
    {
      "cell_type": "code",
      "metadata": {
        "id": "VticxWQ2HT23",
        "colab": {
          "base_uri": "https://localhost:8080/"
        },
        "outputId": "c56cfb01-a012-43b6-9303-5506ebc970f5"
      },
      "source": [
        "#remove the degenerative runs\r\n",
        "deg = 0\r\n",
        "for i in reversed(range(N_runs)): \r\n",
        "  if I_max[i] < 50:\r\n",
        "    I_max.pop(i)\r\n",
        "    I_max_day.pop(i)\r\n",
        "    Days_end.pop(i)\r\n",
        "    RT.pop(i)\r\n",
        "    deg += 1\r\n",
        "\r\n",
        "print(f\"degenerative runs removed: {deg}\")\r\n",
        "\r\n",
        "ci_max, mean_max = conf_int(I_max, cl, len(I_max))\r\n",
        "ci_max_day, mean_max_day = conf_int(I_max_day, cl, len(I_max_day)) \r\n",
        "ci_end, mean_end = conf_int(Days_end, cl, len(Days_end)) \r\n",
        "\r\n",
        "print(\"Without degenerative runs\")\r\n",
        "print(f'The maximum number of infected people is {mean_max}')\r\n",
        "print(f'With the confidence interval: {ci_max}')\r\n",
        "print(f'The maximum number of infected people is reached after {mean_max_day} day')\r\n",
        "print(f'With the confidence interval: {ci_max_day}')\r\n",
        "print(f'The epidemics end after {mean_end} days')\r\n",
        "print(f'With the confidence interval: {ci_end}')"
      ],
      "execution_count": null,
      "outputs": [
        {
          "output_type": "stream",
          "text": [
            "degenerative runs removed: 4\n",
            "Without degenerative runs\n",
            "The maximum number of infected people is 2886.346153846154\n",
            "With the confidence interval: (2857.374899062786, 2915.3174086295217)\n",
            "The maximum number of infected people is reached after 80.76923076923077 day\n",
            "With the confidence interval: (77.11113262330286, 84.42732891515868)\n",
            "The epidemics end after 97.34615384615384 days\n",
            "With the confidence interval: (93.82877458301095, 100.86353310929672)\n"
          ],
          "name": "stdout"
        }
      ]
    },
    {
      "cell_type": "code",
      "metadata": {
        "id": "fihAHHPZJBS-",
        "colab": {
          "base_uri": "https://localhost:8080/"
        },
        "outputId": "db26657c-d004-4e0f-a27f-9f3b8b28bff0"
      },
      "source": [
        "np.random.seed(1)\r\n",
        "random.seed(1) \r\n",
        "environment = Environment(N, beta, gamma, N_location, P_out) \r\n",
        "S_t = []\r\n",
        "I_t = []\r\n",
        "R_t = []\r\n",
        "for _ in range(days):\r\n",
        "  environment.move()\r\n",
        "  environment.infect()\r\n",
        "  environment.recover()\r\n",
        "  environment.next_day()\r\n",
        "  S_n, I_n, R_n = environment.get_SIR()\r\n",
        "  S_t.append(S_n)\r\n",
        "  I_t.append(I_n)\r\n",
        "  R_t.append(R_n)\r\n",
        "\r\n",
        "print(f\"Max infected: {np.max(I_t)}\")\r\n",
        "print(f\"Day max: {np.argmax(I_t)+1}\")\r\n",
        "day_end = find_herd_immunity(R_t, N_imm)\r\n",
        "print(f\"Day end: {day_end}\")  "
      ],
      "execution_count": null,
      "outputs": [
        {
          "output_type": "stream",
          "text": [
            "Max infected: 2950\n",
            "Day max: 78\n",
            "Day end = 95\n"
          ],
          "name": "stdout"
        }
      ]
    },
    {
      "cell_type": "markdown",
      "metadata": {
        "id": "E7TqWQPf2P4Q"
      },
      "source": [
        "###Plotting case 0"
      ]
    },
    {
      "cell_type": "code",
      "metadata": {
        "id": "Fc2MLsiy2C62",
        "colab": {
          "base_uri": "https://localhost:8080/",
          "height": 352
        },
        "outputId": "882f15a0-df7b-4c9d-9d6d-dd9a8da19eda"
      },
      "source": [
        "#plotting S(t), I(t) and R(t)\r\n",
        "pal = sns.color_palette(\"deep\")\r\n",
        "pal.as_hex()\r\n",
        "sns.set_style(\"darkgrid\", {\"axes.facecolor\": \"0.8\"})\r\n",
        "fig, ax = plt.subplots(figsize=(10,5))\r\n",
        "\r\n",
        "ax.plot(range(365), S_t, label='Susceptible', color= pal[0]) \r\n",
        "ax.plot(range(365), R_t, label='Removed', color=pal[1]) \r\n",
        "ax.plot(range(365), I_t, label='Infected', color = pal[3]) \r\n",
        "ax.plot([day_end, day_end], [0, N], label = \"Herd immunity reached\", color = pal[2])\r\n",
        "\r\n",
        "ax.set_ylim(ymin=0)\r\n",
        "ax.set_xlabel(\"Time [day]\", fontsize=13)\r\n",
        "ax.set_ylabel(\"N° of people\", fontsize=13) \r\n",
        "ax.legend()\r\n",
        "plt.title(f\"Evolution of the deaseas: Case 0\", fontsize=15)\r\n",
        "plt.show()"
      ],
      "execution_count": null,
      "outputs": [
        {
          "output_type": "display_data",
          "data": {
            "text/plain": [
              "<Figure size 720x360 with 1 Axes>"
            ],
            "image/png": "[encoded data removed]"
          },
          "metadata": {
            "tags": []
          }
        }
      ]
    },
    {
      "cell_type": "code",
      "metadata": {
        "id": "iGY_BoA0H8vJ",
        "colab": {
          "base_uri": "https://localhost:8080/",
          "height": 352
        },
        "outputId": "4fc1df25-ff7a-4811-dde6-73663545f407"
      },
      "source": [
        "#plotting Rt + confidence interval\r\n",
        "sns.set_palette(\"colorblind\")  \r\n",
        "sns.set_style(\"darkgrid\", {\"axes.facecolor\": \"0.8\"})\r\n",
        "fig, ax = plt.subplots(figsize=(10,5))\r\n",
        "\r\n",
        "RT = np.array(RT)\r\n",
        "Mean_rt = []\r\n",
        "CI_rt = []\r\n",
        "for i in range(365):\r\n",
        "  ci_rt, m_rt = conf_int(RT[:,i], cl, len(RT))\r\n",
        "  Mean_rt.append(m_rt)\r\n",
        "  CI_rt.append(ci_rt)\r\n",
        "\r\n",
        "LW_ci = []\r\n",
        "UP_ci = []\r\n",
        "for i in range(len(CI_rt)):\r\n",
        "  LW_ci.append(CI_rt[i][0])\r\n",
        "  UP_ci.append(CI_rt[i][1])\r\n",
        "\r\n",
        "ax.plot(range(365), Mean_rt, label='Rt') \r\n",
        "ax.fill_between(range(365), LW_ci, UP_ci, color='b', alpha=.1, label=\"95% confidence\")\r\n",
        "ax.set_ylim(ymin=0)\r\n",
        "ax.set_xlabel(\"Time [day]\", fontsize=13)\r\n",
        "ax.set_ylabel(\"Rt\", fontsize=13) \r\n",
        "ax.legend()\r\n",
        "plt.title(\"Evolution of Rt\", fontsize=15)\r\n",
        "plt.show()"
      ],
      "execution_count": null,
      "outputs": [
        {
          "output_type": "display_data",
          "data": {
            "text/plain": [
              "<Figure size 720x360 with 1 Axes>"
            ],
            "image/png": "[encoded data removed]"
          },
          "metadata": {
            "tags": []
          }
        }
      ]
    },
    {
      "cell_type": "markdown",
      "metadata": {
        "id": "a1Pcib4r2D3F"
      },
      "source": [
        "###Case 1"
      ]
    },
    {
      "cell_type": "code",
      "metadata": {
        "id": "WDC0yMrnp4a1",
        "colab": {
          "base_uri": "https://localhost:8080/"
        },
        "outputId": "b17d3fa4-fb21-44bf-887a-ed89d9f577e3"
      },
      "source": [
        "#input variable\r\n",
        "N_runs = 30\r\n",
        "cl = 0.95\r\n",
        "seed = 1\r\n",
        "\r\n",
        "days = 365\r\n",
        "N = 10000\r\n",
        "beta = [0.25, 0.125, 0.125, 0.125, 0.125]\r\n",
        "gamma = [1/12, 1/14, 1/16]\r\n",
        "N_location = len(beta) \r\n",
        "P_out = 0.8\r\n",
        "\r\n",
        "print(f\"The population size is: {N}\")\r\n",
        "print(f\"\\u03B2 = {beta}\")\r\n",
        "print(f\"\\u03B3 = {gamma}\")"
      ],
      "execution_count": null,
      "outputs": [
        {
          "output_type": "stream",
          "text": [
            "The population size is: 10000\n",
            "β = [0.25, 0.125, 0.125, 0.125, 0.125]\n",
            "γ = [0.08333333333333333, 0.07142857142857142, 0.0625]\n"
          ],
          "name": "stdout"
        }
      ]
    },
    {
      "cell_type": "code",
      "metadata": {
        "id": "9Qi9E-fSIHVS"
      },
      "source": [
        "#output metrics\r\n",
        "I_max = []\r\n",
        "I_max_day = []\r\n",
        "Days_end = []\r\n",
        "RT = []"
      ],
      "execution_count": null,
      "outputs": []
    },
    {
      "cell_type": "code",
      "metadata": {
        "id": "bpMIvqnqIHYG",
        "colab": {
          "base_uri": "https://localhost:8080/"
        },
        "outputId": "ceffa6a5-c314-41e3-dc1b-b8918b2006ad"
      },
      "source": [
        "#simulation\r\n",
        "for r in range(N_runs):\r\n",
        "  print(f\"Run: {r}\")\r\n",
        "  np.random.seed(seed)\r\n",
        "  random.seed(seed)\r\n",
        "  i_max, day_max, day_end, Rt = Simulate(days, N, beta, gamma, N_location, P_out)\r\n",
        "  I_max.append(i_max)\r\n",
        "  I_max_day.append(day_max)\r\n",
        "  Days_end.append(day_end)\r\n",
        "  RT.append(Rt)\r\n",
        "  seed += 1"
      ],
      "execution_count": null,
      "outputs": [
        {
          "output_type": "stream",
          "text": [
            "Run: 0\n",
            "Run: 1\n",
            "Run: 2\n",
            "Run: 3\n",
            "Run: 4\n",
            "Run: 5\n",
            "Run: 6\n",
            "Run: 7\n",
            "Run: 8\n",
            "Run: 9\n",
            "Run: 10\n",
            "Run: 11\n",
            "Run: 12\n",
            "Run: 13\n",
            "Run: 14\n",
            "Run: 15\n",
            "Run: 16\n",
            "Run: 17\n",
            "Run: 18\n",
            "Run: 19\n",
            "Run: 20\n",
            "Run: 21\n",
            "Run: 22\n",
            "Run: 23\n",
            "Run: 24\n",
            "Run: 25\n",
            "Run: 26\n",
            "Run: 27\n",
            "Run: 28\n",
            "Run: 29\n"
          ],
          "name": "stdout"
        }
      ]
    },
    {
      "cell_type": "code",
      "metadata": {
        "id": "Td0F2vp_IHbf",
        "colab": {
          "base_uri": "https://localhost:8080/"
        },
        "outputId": "eccbddfd-1dc2-4525-8d44-98ad19b35cf5"
      },
      "source": [
        "ci_max, mean_max = conf_int(I_max, cl, len(I_max))\r\n",
        "ci_max_day, mean_max_day = conf_int(I_max_day, cl, len(I_max_day)) \r\n",
        "ci_end, mean_end = conf_int(Days_end, cl, len(Days_end)) \r\n",
        "\r\n",
        "print(\"With degenerative runs\")\r\n",
        "print(f'The maximum number of infected people is {mean_max}')\r\n",
        "print(f'With the confidence interval: {ci_max}')\r\n",
        "print(f'The maximum number of infected people is reached after {mean_max_day} day')\r\n",
        "print(f'With the confidence interval: {ci_max_day}')\r\n",
        "print(f'The epidemics end after {mean_end} days')\r\n",
        "print(f'With the confidence interval: {ci_end}')"
      ],
      "execution_count": null,
      "outputs": [
        {
          "output_type": "stream",
          "text": [
            "With degenerative runs\n",
            "The maximum number of infected people is 2232.266666666667\n",
            "With the confidence interval: (1587.1880871868761, 2877.3452461464576)\n",
            "The maximum number of infected people is reached after 43.6 day\n",
            "With the confidence interval: (31.504789063243408, 55.695210936756595)\n",
            "The epidemics end after 54.166666666666664 days\n",
            "With the confidence interval: (40.61926966501783, 67.7140636683155)\n"
          ],
          "name": "stdout"
        }
      ]
    },
    {
      "cell_type": "code",
      "metadata": {
        "id": "gdLkKKPY2TTU",
        "colab": {
          "base_uri": "https://localhost:8080/"
        },
        "outputId": "775fdb79-627b-4d53-8eb3-b994ba0799c7"
      },
      "source": [
        "#remove the degenerative runs\r\n",
        "deg = 0\r\n",
        "for i in reversed(range(N_runs)): \r\n",
        "  if I_max[i] < 50:\r\n",
        "    I_max.pop(i)\r\n",
        "    I_max_day.pop(i)\r\n",
        "    Days_end.pop(i)\r\n",
        "    RT.pop(i)\r\n",
        "    deg += 1\r\n",
        "\r\n",
        "print(f\"degenerative runs removed: {deg}\")\r\n",
        "\r\n",
        "ci_max, mean_max = conf_int(I_max, cl, len(I_max))\r\n",
        "ci_max_day, mean_max_day = conf_int(I_max_day, cl, len(I_max_day)) \r\n",
        "ci_end, mean_end = conf_int(Days_end, cl, len(Days_end)) \r\n",
        "\r\n",
        "print(\"Without degenerative runs\")\r\n",
        "print(f'The maximum number of infected people is {mean_max}')\r\n",
        "print(f'With the confidence interval: {ci_max}')\r\n",
        "print(f'The maximum number of infected people is reached after {mean_max_day} day')\r\n",
        "print(f'With the confidence interval: {ci_max_day}')\r\n",
        "print(f'The epidemics end after {mean_end} days')\r\n",
        "print(f'With the confidence interval: {ci_end}')"
      ],
      "execution_count": null,
      "outputs": [
        {
          "output_type": "stream",
          "text": [
            "degenerative runs removed: 11\n",
            "Without degenerative runs\n",
            "The maximum number of infected people is 3523.7894736842104\n",
            "With the confidence interval: (3485.3804208613415, 3562.1985265070794)\n",
            "The maximum number of infected people is reached after 66.89473684210526 day\n",
            "With the confidence interval: (61.76891725425998, 72.02055642995053)\n",
            "The epidemics end after 80.3157894736842 days\n",
            "With the confidence interval: (75.30157283152585, 85.33000611584256)\n"
          ],
          "name": "stdout"
        }
      ]
    },
    {
      "cell_type": "code",
      "metadata": {
        "id": "08oI_23xJAMY",
        "colab": {
          "base_uri": "https://localhost:8080/"
        },
        "outputId": "8615d28b-7547-484e-e354-54824f543715"
      },
      "source": [
        "np.random.seed(1)\r\n",
        "random.seed(1) \r\n",
        "environment = Environment(N, beta, gamma, N_location, P_out) \r\n",
        "S_t = []\r\n",
        "I_t = []\r\n",
        "R_t = []\r\n",
        "for _ in range(days):\r\n",
        "  environment.move()\r\n",
        "  environment.infect()\r\n",
        "  environment.recover()\r\n",
        "  environment.next_day()\r\n",
        "  S_n, I_n, R_n = environment.get_SIR()\r\n",
        "  S_t.append(S_n)\r\n",
        "  I_t.append(I_n)\r\n",
        "  R_t.append(R_n)\r\n",
        "\r\n",
        "print(f\"Max infected: {np.max(I_t)}\")\r\n",
        "print(f\"Day max: {np.argmax(I_t)+1}\")\r\n",
        "day_end = find_herd_immunity(R_t, N_imm)\r\n",
        "print(f\"Day end: {day_end}\")"
      ],
      "execution_count": null,
      "outputs": [
        {
          "output_type": "stream",
          "text": [
            "Max infected: 3377\n",
            "Day max: 73\n",
            "Day end = 85\n"
          ],
          "name": "stdout"
        }
      ]
    },
    {
      "cell_type": "markdown",
      "metadata": {
        "id": "Z-O3HkSb2T3Q"
      },
      "source": [
        "### Plotting case 1"
      ]
    },
    {
      "cell_type": "code",
      "metadata": {
        "id": "joMWnBnD2TWX",
        "colab": {
          "base_uri": "https://localhost:8080/",
          "height": 352
        },
        "outputId": "8e9185e0-82cd-4fee-f2d8-dc9b0882446f"
      },
      "source": [
        "#plotting S(t), I(t) and R(t)\r\n",
        "pal = sns.color_palette(\"deep\")\r\n",
        "pal.as_hex()\r\n",
        "sns.set_style(\"darkgrid\", {\"axes.facecolor\": \"0.8\"})\r\n",
        "fig, ax = plt.subplots(figsize=(10,5))\r\n",
        "\r\n",
        "ax.plot(range(365), S_t, label='Susceptible', color= pal[0]) \r\n",
        "ax.plot(range(365), R_t, label='Removed', color=pal[1]) \r\n",
        "ax.plot(range(365), I_t, label='Infected', color = pal[3]) \r\n",
        "ax.plot([day_end, day_end], [0, N], label = \"Herd immunity reached\", color = pal[2])\r\n",
        "\r\n",
        "ax.set_ylim(ymin=0)\r\n",
        "ax.set_xlabel(\"Time [day]\", fontsize=13)\r\n",
        "ax.set_ylabel(\"N° of people\", fontsize=13) \r\n",
        "ax.legend()\r\n",
        "plt.title(f\"Evolution of the deaseas: case 1\", fontsize=15)\r\n",
        "plt.show()"
      ],
      "execution_count": null,
      "outputs": [
        {
          "output_type": "display_data",
          "data": {
            "text/plain": [
              "<Figure size 720x360 with 1 Axes>"
            ],
            "image/png": "[encoded data removed]"
          },
          "metadata": {
            "tags": []
          }
        }
      ]
    },
    {
      "cell_type": "code",
      "metadata": {
        "id": "MZM7BKVcIBLh",
        "colab": {
          "base_uri": "https://localhost:8080/",
          "height": 352
        },
        "outputId": "fbb591bc-8063-4b3c-b696-c5192495ef5d"
      },
      "source": [
        "#plotting Rt + confidence interval\r\n",
        "sns.set_palette(\"colorblind\")  \r\n",
        "sns.set_style(\"darkgrid\", {\"axes.facecolor\": \"0.8\"})\r\n",
        "fig, ax = plt.subplots(figsize=(10,5))\r\n",
        "\r\n",
        "RT = np.array(RT)\r\n",
        "Mean_rt = []\r\n",
        "CI_rt = []\r\n",
        "for i in range(365):\r\n",
        "  ci_rt, m_rt = conf_int(RT[:,i], cl, len(RT))\r\n",
        "  Mean_rt.append(m_rt)\r\n",
        "  CI_rt.append(ci_rt)\r\n",
        "\r\n",
        "LW_ci = []\r\n",
        "UP_ci = []\r\n",
        "for i in range(len(CI_rt)):\r\n",
        "  LW_ci.append(CI_rt[i][0])\r\n",
        "  UP_ci.append(CI_rt[i][1])\r\n",
        "\r\n",
        "ax.plot(range(365), Mean_rt, label='Rt') \r\n",
        "ax.fill_between(range(365), LW_ci, UP_ci, color='b', alpha=.1, label=\"95% confidence\")\r\n",
        "ax.set_ylim(ymin=0)\r\n",
        "ax.set_xlabel(\"Time [day]\", fontsize=13)\r\n",
        "ax.set_ylabel(\"Rt\", fontsize=13) \r\n",
        "ax.legend()\r\n",
        "plt.title(\"Evolution of Rt\", fontsize=15)\r\n",
        "plt.show()"
      ],
      "execution_count": null,
      "outputs": [
        {
          "output_type": "display_data",
          "data": {
            "text/plain": [
              "<Figure size 720x360 with 1 Axes>"
            ],
            "image/png": "[encoded data removed]"
          },
          "metadata": {
            "tags": []
          }
        }
      ]
    },
    {
      "cell_type": "markdown",
      "metadata": {
        "id": "MA0JIPZK2HOC"
      },
      "source": [
        "###Case 2"
      ]
    },
    {
      "cell_type": "code",
      "metadata": {
        "id": "DIDmGcYjP9A6"
      },
      "source": [
        "def Simulate(days, N, beta, gamma, N_location, P_out, limit):\r\n",
        "  environment = Environment(N, beta, gamma, N_location, P_out)\r\n",
        "  I_t = []\r\n",
        "  R_t = []\r\n",
        "  N_imm = 6428\r\n",
        "  for _ in range(days):\r\n",
        "    environment.move()\r\n",
        "    environment.infect()\r\n",
        "    environment.recover()\r\n",
        "    environment.next_day()\r\n",
        "    _ , I, R = environment.get_SIR()\r\n",
        "    if I >= limit:\r\n",
        "      environment.set_restriction(new_P_out = 0.5)\r\n",
        "    I_t.append(I)\r\n",
        "    R_t.append(R)\r\n",
        "    \r\n",
        "  i_max = np.max(I_t)\r\n",
        "  day_max = np.argmax(I_t)+1 \r\n",
        "  day_end = find_herd_immunity(R_t, N_imm)\r\n",
        "  Rt = compute_Rt(environment)\r\n",
        "  return i_max, day_max, day_end, Rt"
      ],
      "execution_count": null,
      "outputs": []
    },
    {
      "cell_type": "code",
      "metadata": {
        "id": "du6JTf5P2JpG",
        "colab": {
          "base_uri": "https://localhost:8080/"
        },
        "outputId": "22c8c44c-a4f4-4920-9e06-bd7ca2045e4a"
      },
      "source": [
        "#input variable\r\n",
        "N_runs = 30\r\n",
        "cl = 0.95\r\n",
        "seed = 1\r\n",
        "\r\n",
        "days = 365\r\n",
        "N = 10000\r\n",
        "beta = [0.125, 0.125, 0.125, 0.125, 0.125]\r\n",
        "gamma = [1/12, 1/14, 1/16]\r\n",
        "N_location = len(beta) \r\n",
        "P_out = 0.8\r\n",
        "limit = 1000\r\n",
        "\r\n",
        "print(f\"The population size is: {N}\")\r\n",
        "print(f\"\\u03B2 = {beta}\")\r\n",
        "print(f\"\\u03B3 = {gamma}\")"
      ],
      "execution_count": null,
      "outputs": [
        {
          "output_type": "stream",
          "text": [
            "The population size is: 10000\n",
            "β = [0.125, 0.125, 0.125, 0.125, 0.125]\n",
            "γ = [0.08333333333333333, 0.07142857142857142, 0.0625]\n"
          ],
          "name": "stdout"
        }
      ]
    },
    {
      "cell_type": "code",
      "metadata": {
        "id": "jq3hZkfvIaYn"
      },
      "source": [
        "#output metrics\r\n",
        "I_max = []\r\n",
        "I_max_day = []\r\n",
        "Days_end = []\r\n",
        "RT = []"
      ],
      "execution_count": null,
      "outputs": []
    },
    {
      "cell_type": "code",
      "metadata": {
        "id": "jo4-TD5aIabH",
        "colab": {
          "base_uri": "https://localhost:8080/"
        },
        "outputId": "6d5856ea-851e-4e65-96a2-b227d3ebf7a0"
      },
      "source": [
        "#simulation\r\n",
        "for r in range(N_runs):\r\n",
        "  print(f\"Run: {r}\")\r\n",
        "  np.random.seed(seed)\r\n",
        "  random.seed(seed)\r\n",
        "  i_max, day_max, day_end, Rt = Simulate(days, N, beta, gamma, N_location, P_out, limit)\r\n",
        "  I_max.append(i_max)\r\n",
        "  I_max_day.append(day_max)\r\n",
        "  Days_end.append(day_end)\r\n",
        "  RT.append(Rt)\r\n",
        "  seed += 1"
      ],
      "execution_count": null,
      "outputs": [
        {
          "output_type": "stream",
          "text": [
            "Run: 0\n",
            "Run: 1\n",
            "Run: 2\n",
            "Run: 3\n",
            "Run: 4\n",
            "Run: 5\n",
            "Run: 6\n",
            "Run: 7\n",
            "Run: 8\n",
            "Run: 9\n",
            "Run: 10\n",
            "Run: 11\n",
            "Run: 12\n",
            "Run: 13\n",
            "Run: 14\n",
            "Run: 15\n",
            "Run: 16\n",
            "Run: 17\n",
            "Run: 18\n",
            "Run: 19\n",
            "Run: 20\n",
            "Run: 21\n",
            "Run: 22\n",
            "Run: 23\n",
            "Run: 24\n",
            "Run: 25\n",
            "Run: 26\n",
            "Run: 27\n",
            "Run: 28\n",
            "Run: 29\n"
          ],
          "name": "stdout"
        }
      ]
    },
    {
      "cell_type": "code",
      "metadata": {
        "id": "UiQNq-a4Iai0",
        "colab": {
          "base_uri": "https://localhost:8080/"
        },
        "outputId": "b5f8b54d-3f7c-4858-9d81-d11f80353af5"
      },
      "source": [
        "ci_max, mean_max = conf_int(I_max, cl, len(I_max))\r\n",
        "ci_max_day, mean_max_day = conf_int(I_max_day, cl, len(I_max_day)) \r\n",
        "ci_end, mean_end = conf_int(Days_end, cl, len(Days_end)) \r\n",
        "\r\n",
        "print(\"With degenerative runs\")\r\n",
        "print(f'The maximum number of infected people is {mean_max}')\r\n",
        "print(f'With the confidence interval: {ci_max}')\r\n",
        "print(f'The maximum number of infected people is reached after {mean_max_day} day')\r\n",
        "print(f'With the confidence interval: {ci_max_day}')\r\n",
        "print(f'The epidemics end after {mean_end} days')\r\n",
        "print(f'With the confidence interval: {ci_end}')"
      ],
      "execution_count": null,
      "outputs": [
        {
          "output_type": "stream",
          "text": [
            "With degenerative runs\n",
            "The maximum number of infected people is 1402.5\n",
            "With the confidence interval: (1192.4151223645933, 1612.5848776354067)\n",
            "The maximum number of infected people is reached after 73.1 day\n",
            "With the confidence interval: (62.127935789488376, 84.07206421051161)\n",
            "The epidemics end after 111.73333333333333 days\n",
            "With the confidence interval: (95.82323583253874, 127.64343083412793)\n"
          ],
          "name": "stdout"
        }
      ]
    },
    {
      "cell_type": "code",
      "metadata": {
        "id": "yDKQRx4r2JsD",
        "colab": {
          "base_uri": "https://localhost:8080/"
        },
        "outputId": "7d52108b-0285-429b-e602-2c5ee8e8d76a"
      },
      "source": [
        "#remove the degenerative runs\r\n",
        "deg = 0\r\n",
        "for i in reversed(range(N_runs)): \r\n",
        "  if I_max[i] < 50:\r\n",
        "    I_max.pop(i)\r\n",
        "    I_max_day.pop(i)\r\n",
        "    Days_end.pop(i)\r\n",
        "    RT.pop(i)\r\n",
        "    deg += 1\r\n",
        "\r\n",
        "print(f\"degenerative runs removed: {deg}\")\r\n",
        "\r\n",
        "ci_max, mean_max = conf_int(I_max, cl, len(I_max))\r\n",
        "ci_max_day, mean_max_day = conf_int(I_max_day, cl, len(I_max_day)) \r\n",
        "ci_end, mean_end = conf_int(Days_end, cl, len(Days_end)) \r\n",
        "\r\n",
        "print(\"Without degenerative runs\")\r\n",
        "print(f'The maximum number of infected people is {mean_max}')\r\n",
        "print(f'With the confidence interval: {ci_max}')\r\n",
        "print(f'The maximum number of infected people is reached after {mean_max_day} day')\r\n",
        "print(f'With the confidence interval: {ci_max_day}')\r\n",
        "print(f'The epidemics end after {mean_end} days')\r\n",
        "print(f'With the confidence interval: {ci_end}')"
      ],
      "execution_count": null,
      "outputs": [
        {
          "output_type": "stream",
          "text": [
            "degenerative runs removed: 4\n",
            "Without degenerative runs\n",
            "The maximum number of infected people is 1618.0384615384614\n",
            "With the confidence interval: (1589.9925367862904, 1646.0843862906324)\n",
            "The maximum number of infected people is reached after 83.92307692307692 day\n",
            "With the confidence interval: (80.16881424231319, 87.67733960384065)\n",
            "The epidemics end after 127.84615384615384 days\n",
            "With the confidence interval: (124.29232187640238, 131.3999858159053)\n"
          ],
          "name": "stdout"
        }
      ]
    },
    {
      "cell_type": "code",
      "metadata": {
        "id": "OmB1BuSNI_Ci",
        "colab": {
          "base_uri": "https://localhost:8080/"
        },
        "outputId": "1de5a23b-5931-453e-8103-5347a4613ba5"
      },
      "source": [
        "np.random.seed(1)\r\n",
        "random.seed(1) \r\n",
        "environment = Environment(N, beta, gamma, N_location, P_out) \r\n",
        "S_t = []\r\n",
        "I_t = []\r\n",
        "R_t = []\r\n",
        "day_lock = 0\r\n",
        "for day in range(days):\r\n",
        "  environment.move()\r\n",
        "  environment.infect()\r\n",
        "  environment.recover()\r\n",
        "  environment.next_day()\r\n",
        "  S_n, I_n, R_n = environment.get_SIR()\r\n",
        "  if I_n >= limit and day_lock == 0:\r\n",
        "    environment.set_restriction(new_P_out = 0.5)\r\n",
        "    day_lock = day+1\r\n",
        "  S_t.append(S_n)\r\n",
        "  I_t.append(I_n)\r\n",
        "  R_t.append(R_n)\r\n",
        "\r\n",
        "print(f\"Max infected: {np.max(I_t)}\")\r\n",
        "print(f\"Day max: {np.argmax(I_t)+1}\")\r\n",
        "day_end = find_herd_immunity(R_t, N_imm)\r\n",
        "print(f\"Day end: {day_end}\")\r\n",
        "print(f\"Day lock down: {day_lock}\")"
      ],
      "execution_count": null,
      "outputs": [
        {
          "output_type": "stream",
          "text": [
            "Max infected: 1649\n",
            "Day max: 78\n",
            "Day end: 129\n",
            "Day lock down: 59\n"
          ],
          "name": "stdout"
        }
      ]
    },
    {
      "cell_type": "markdown",
      "metadata": {
        "id": "OEKrW2qy2X3o"
      },
      "source": [
        "### Plotting case 2"
      ]
    },
    {
      "cell_type": "code",
      "metadata": {
        "id": "dXLqXE_J2Ju1",
        "colab": {
          "base_uri": "https://localhost:8080/",
          "height": 352
        },
        "outputId": "9c5eafd9-ecdf-4645-d99d-7e18f4275933"
      },
      "source": [
        "#plotting S(t), I(t) and R(t)\r\n",
        "pal = sns.color_palette(\"deep\")\r\n",
        "pal.as_hex()\r\n",
        "sns.set_style(\"darkgrid\", {\"axes.facecolor\": \"0.8\"})\r\n",
        "fig, ax = plt.subplots(figsize=(10,5))\r\n",
        "\r\n",
        "ax.plot(range(365), S_t, label='Susceptible', color= pal[0]) \r\n",
        "ax.plot(range(365), R_t, label='Removed', color=pal[1]) \r\n",
        "ax.plot(range(365), I_t, label='Infected', color = pal[3]) \r\n",
        "ax.plot([day_end, day_end], [0, N], label = \"Herd immunity reached\", color = pal[2])\r\n",
        "ax.plot([day_lock, day_lock], [0, N], label = \"Reduce P_out\", color = pal[4])\r\n",
        "ax.set_ylim(ymin=0)\r\n",
        "ax.set_xlabel(\"Time [day]\", fontsize=13)\r\n",
        "ax.set_ylabel(\"N° of people\", fontsize=13) \r\n",
        "ax.legend()\r\n",
        "plt.title(f\"Evolution of the deaseas: case 2\", fontsize=15)\r\n",
        "plt.show()"
      ],
      "execution_count": null,
      "outputs": [
        {
          "output_type": "display_data",
          "data": {
            "text/plain": [
              "<Figure size 720x360 with 1 Axes>"
            ],
            "image/png": "[encoded data removed]"
          },
          "metadata": {
            "tags": []
          }
        }
      ]
    },
    {
      "cell_type": "code",
      "metadata": {
        "id": "S_MMlQhKp4gv",
        "colab": {
          "base_uri": "https://localhost:8080/",
          "height": 352
        },
        "outputId": "0d33bddb-c59e-4c02-e2d4-f0a33e34e3c1"
      },
      "source": [
        "#plotting Rt + confidence interval\r\n",
        "sns.set_palette(\"colorblind\")  \r\n",
        "sns.set_style(\"darkgrid\", {\"axes.facecolor\": \"0.8\"})\r\n",
        "fig, ax = plt.subplots(figsize=(10,5))\r\n",
        "\r\n",
        "RT = np.array(RT)\r\n",
        "Mean_rt = []\r\n",
        "CI_rt = []\r\n",
        "for i in range(365):\r\n",
        "  ci_rt, m_rt = conf_int(RT[:,i], cl, len(RT))\r\n",
        "  Mean_rt.append(m_rt)\r\n",
        "  CI_rt.append(ci_rt)\r\n",
        "\r\n",
        "LW_ci = []\r\n",
        "UP_ci = []\r\n",
        "for i in range(len(CI_rt)):\r\n",
        "  LW_ci.append(CI_rt[i][0])\r\n",
        "  UP_ci.append(CI_rt[i][1])\r\n",
        "\r\n",
        "ax.plot(range(365), Mean_rt, label='Rt') \r\n",
        "ax.fill_between(range(365), LW_ci, UP_ci, color='b', alpha=.1, label=\"95% confidence\")\r\n",
        "ax.set_ylim(ymin=0)\r\n",
        "ax.set_xlabel(\"Time [day]\", fontsize=13)\r\n",
        "ax.set_ylabel(\"Rt\", fontsize=13) \r\n",
        "ax.legend()\r\n",
        "plt.title(\"Evolution of Rt\", fontsize=15)\r\n",
        "plt.show()"
      ],
      "execution_count": null,
      "outputs": [
        {
          "output_type": "display_data",
          "data": {
            "text/plain": [
              "<Figure size 720x360 with 1 Axes>"
            ],
            "image/png": "[encoded data removed]"
          },
          "metadata": {
            "tags": []
          }
        }
      ]
    }
  ]
}